{
 "cells": [
  {
   "cell_type": "markdown",
   "id": "dbeb14e1",
   "metadata": {},
   "source": [
    "---\n",
    "\n",
    "## Advanced Regular Expression Assignments\n",
    "\n",
    "### Assignment 1: Extracting Phone Numbers\n",
    "\n",
    "**Raw Text:** \n",
    "Extract all valid Pakistani phone numbers from a given text.\n",
    "\n",
    "**Example:**\n",
    "```\n",
    "Text: Please contact me at 0301-1234567 or 042-35678901 for further details.\n",
    "```\n",
    "\n"
   ]
  },
  {
   "cell_type": "code",
   "execution_count": 141,
   "id": "b830b03e",
   "metadata": {},
   "outputs": [
    {
     "name": "stdout",
     "output_type": "stream",
     "text": [
      "0301-1234567 \n",
      "042-35678901 \n"
     ]
    }
   ],
   "source": [
    "import re\n",
    "text = \"Please contact me at 0301-1234567 or 042-35678901 for further details.\"\n",
    "\n",
    "pattern = r\"[\\d-]+\\s\" #\\s Exit at Whitespace\n",
    "\n",
    "nums = re.findall(pattern, text)\n",
    "\n",
    "for i in nums:\n",
    "    print(i)"
   ]
  },
  {
   "cell_type": "markdown",
   "id": "dd34fb2f",
   "metadata": {},
   "source": [
    "### Assignment 2: Validating Email Addresses\n",
    "\n",
    "**Raw Text:** \n",
    "Validate email addresses according to Pakistani domain extensions (.pk).\n",
    "\n",
    "**Example:**\n",
    "```\n",
    "Text: Contact us at info@example.com or support@domain.pk for assistance.\n",
    "```\n",
    "\n"
   ]
  },
  {
   "cell_type": "code",
   "execution_count": 54,
   "id": "64cf6883",
   "metadata": {},
   "outputs": [
    {
     "name": "stdout",
     "output_type": "stream",
     "text": [
      "Email: info@example.com is NOT validated as Pakistani Domain (.pk)\n",
      "Email: support@domain.pk is validated as Pakistani Domain (.pk)\n"
     ]
    }
   ],
   "source": [
    "text = 'Contact us at info@example.com or support@domain.pk for assistance.'\n",
    "\n",
    "pattern = r\"[\\w]+@[\\w]+\\.[\\w]+\" \n",
    "\n",
    "email = re.findall(pattern, text , re.IGNORECASE)\n",
    "\n",
    "for i in email:\n",
    "    domain = i[-2:]\n",
    "    if (domain == \"pk\"):\n",
    "        print(f\"Email: {i} is validated as Pakistani Domain (.pk)\")\n",
    "    else:\n",
    "        print(f\"Email: {i} is NOT validated as Pakistani Domain (.pk)\") "
   ]
  },
  {
   "cell_type": "markdown",
   "id": "0bd2f6f3",
   "metadata": {},
   "source": [
    "### Assignment 3: Extracting CNIC Numbers\n",
    "\n",
    "**Raw Text:** \n",
    "Extract all Pakistani CNIC (Computerized National Identity Card) numbers from a given text.\n",
    "\n",
    "**Example:**\n",
    "```\n",
    "Text: My CNIC is 12345-6789012-3 and another one is 34567-8901234-5.\n",
    "```\n"
   ]
  },
  {
   "cell_type": "code",
   "execution_count": 43,
   "id": "b825834e",
   "metadata": {},
   "outputs": [
    {
     "name": "stdout",
     "output_type": "stream",
     "text": [
      "12345-6789012-3\n",
      "34567-8901234-5\n"
     ]
    }
   ],
   "source": [
    "text = 'My CNIC is 12345-6789012-3 and another one is 34567-8901234-5'\n",
    "\n",
    "pattern = r\"\\d{5}-\\d{7}-\\d{1}\" \n",
    "\n",
    "cnic = re.findall(pattern, text , re.IGNORECASE)\n",
    "\n",
    "for i in cnic:\n",
    "    print(i)"
   ]
  },
  {
   "cell_type": "markdown",
   "id": "f21a0a2f",
   "metadata": {},
   "source": [
    "\n",
    "### Assignment 4: Identifying Urdu Words\n",
    "\n",
    "**Raw Text:** \n",
    "Identify and extract Urdu words from a mixed English-Urdu text.\n",
    "\n",
    "**Example:**\n",
    "```\n",
    "Text: یہ sentence میں کچھ English words بھی ہیں۔\n",
    "```\n",
    "\n"
   ]
  },
  {
   "cell_type": "code",
   "execution_count": 89,
   "id": "b4263cfb",
   "metadata": {},
   "outputs": [
    {
     "name": "stdout",
     "output_type": "stream",
     "text": [
      "['یہ', 'میں', 'کچھ', 'بھی', 'ہیں۔']\n"
     ]
    }
   ],
   "source": [
    "text = \"یہ sentence میں کچھ English words بھی ہیں۔\"\n",
    "pattern = r'[\\u0600-\\u06FF]+'  # Unicode range for Arabic script\n",
    "\n",
    "urdu = re.findall(pattern, text)\n",
    "print(urdu)"
   ]
  },
  {
   "cell_type": "markdown",
   "id": "421405e8",
   "metadata": {},
   "source": [
    "### Assignment 5: Finding Dates\n",
    "\n",
    "**Raw Text:** \n",
    "Find and extract dates in the format DD-MM-YYYY from a given text.\n",
    "\n",
    "**Example:**\n",
    "```\n",
    "Text: The event will take place on 15-08-2023 and 23-09-2023.\n",
    "```\n",
    "\n"
   ]
  },
  {
   "cell_type": "code",
   "execution_count": 99,
   "id": "c2f9d8bf",
   "metadata": {},
   "outputs": [
    {
     "name": "stdout",
     "output_type": "stream",
     "text": [
      "['15-08-2023', '23-09-2023']\n"
     ]
    }
   ],
   "source": [
    "text = \"The event will take place on 15-08-2023 and 23-09-2023.\"\n",
    "pattern = r'\\d{1,2}-\\d{1,2}-\\d{1,4}'  \n",
    "\n",
    "dates = re.findall(pattern, text)\n",
    "print(dates)"
   ]
  },
  {
   "cell_type": "markdown",
   "id": "6b817815",
   "metadata": {},
   "source": [
    "### Assignment 6: Extracting URLs\n",
    "\n",
    "**Raw Text:** \n",
    "Extract all URLs from a text that belong to Pakistani domains.\n",
    "\n",
    "**Example:**\n",
    "```\n",
    "Text: Visit http://www.example.pk or https://website.com.pk for more information.\n",
    "```\n",
    "\n"
   ]
  },
  {
   "cell_type": "code",
   "execution_count": 122,
   "id": "c2ba10ac",
   "metadata": {},
   "outputs": [
    {
     "name": "stdout",
     "output_type": "stream",
     "text": [
      "['http://www.example.pk', 'https://website.com.pk']\n"
     ]
    }
   ],
   "source": [
    "text = \"Visit http://www.example.pk or https://website.com.pk for more information.\"\n",
    "\n",
    "pattern = r\"https?://(?:www\\.)?+\\w+(?:\\.com)?\\.pk\" #(?:www\\.)?  = Optional Group\n",
    "\n",
    "urls = re.findall(pattern, text)\n",
    "print(urls)"
   ]
  },
  {
   "cell_type": "markdown",
   "id": "7ff1dc07",
   "metadata": {},
   "source": [
    "### Assignment 7: Analyzing Currency\n",
    "\n",
    "**Raw Text:** \n",
    "Extract and analyze currency amounts in Pakistani Rupees (PKR) from a given text.\n",
    "\n",
    "**Example:**\n",
    "```\n",
    "Text: The product costs PKR 1500, while the deluxe version is priced at Rs. 2500.\n",
    "```\n",
    "\n"
   ]
  },
  {
   "cell_type": "code",
   "execution_count": 124,
   "id": "28769652",
   "metadata": {},
   "outputs": [
    {
     "name": "stdout",
     "output_type": "stream",
     "text": [
      "['1500', '2500']\n"
     ]
    }
   ],
   "source": [
    "text = \"The product costs PKR 1500, while the deluxe version is priced at Rs. 2500.\"\n",
    "\n",
    "pattern = r\"\\d+\"\n",
    "\n",
    "currency = re.findall(pattern, text)\n",
    "print(currency)"
   ]
  },
  {
   "cell_type": "markdown",
   "id": "651c8b5d",
   "metadata": {},
   "source": [
    "### Assignment 8: Removing Punctuation\n",
    "\n",
    "**Raw Text:** \n",
    "Remove all punctuation marks from a text while preserving Urdu characters.\n",
    "\n",
    "**Example:**\n",
    "```\n",
    "Text: کیا! آپ, یہاں؟\n",
    "```\n",
    "\n"
   ]
  },
  {
   "cell_type": "code",
   "execution_count": 132,
   "id": "96350bf0",
   "metadata": {},
   "outputs": [
    {
     "name": "stdout",
     "output_type": "stream",
     "text": [
      "['کیا', 'آپ', 'یہاں']\n"
     ]
    }
   ],
   "source": [
    "text = \"کیا! آپ, یہاں؟\"\n",
    "\n",
    "pattern = r\"\\w+\"\n",
    "\n",
    "urdu = re.findall(pattern, text)\n",
    "print(urdu)\n"
   ]
  },
  {
   "cell_type": "markdown",
   "id": "8cc27684",
   "metadata": {},
   "source": [
    "### Assignment 9: Extracting City Names\n",
    "\n",
    "**Raw Text:** \n",
    "Extract names of Pakistani cities from a given text.\n",
    "\n",
    "**Example:**\n",
    "```\n",
    "Text: Lahore, Karachi, Islamabad, and Peshawar are major cities of Pakistan.\n",
    "```\n"
   ]
  },
  {
   "cell_type": "code",
   "execution_count": 133,
   "id": "a81035ed",
   "metadata": {},
   "outputs": [
    {
     "name": "stdout",
     "output_type": "stream",
     "text": [
      "[('Lahore', 'Karachi', 'Islamabad', 'Peshawar')]\n"
     ]
    }
   ],
   "source": [
    "text = \"Lahore, Karachi, Islamabad, and Peshawar are major cities of Pakistan.\"\n",
    "\n",
    "pattern = r\"(\\w+), (\\w+), (\\w+), and (\\w+) are major cities of Pakistan.\"\n",
    "\n",
    "cities = re.findall(pattern, text)\n",
    "print(cities)"
   ]
  },
  {
   "cell_type": "markdown",
   "id": "219b6c4c",
   "metadata": {},
   "source": [
    "\n",
    "### Assignment 10: Analyzing Vehicle Numbers\n",
    "\n",
    "**Raw Text:** \n",
    "Identify and extract Pakistani vehicle registration numbers (e.g., ABC-123) from a text.\n",
    "\n",
    "**Example:**\n",
    "```\n",
    "Text: I saw a car with the number plate LEA-567 near the market.\n",
    "```\n",
    "\n"
   ]
  },
  {
   "cell_type": "code",
   "execution_count": 139,
   "id": "33e1e5ba",
   "metadata": {},
   "outputs": [
    {
     "name": "stdout",
     "output_type": "stream",
     "text": [
      "['LEA-567']\n"
     ]
    }
   ],
   "source": [
    "text = \"I saw a car with the number plate LEA-567 near the market.\"\n",
    "\n",
    "pattern = r\"[A-Z]+-\\d{1,3}\"\n",
    "\n",
    "number_plates = re.findall(pattern, text)\n",
    "print(number_plates)"
   ]
  }
 ],
 "metadata": {
  "kernelspec": {
   "display_name": "Python 3 (ipykernel)",
   "language": "python",
   "name": "python3"
  },
  "language_info": {
   "codemirror_mode": {
    "name": "ipython",
    "version": 3
   },
   "file_extension": ".py",
   "mimetype": "text/x-python",
   "name": "python",
   "nbconvert_exporter": "python",
   "pygments_lexer": "ipython3",
   "version": "3.11.3"
  }
 },
 "nbformat": 4,
 "nbformat_minor": 5
}
