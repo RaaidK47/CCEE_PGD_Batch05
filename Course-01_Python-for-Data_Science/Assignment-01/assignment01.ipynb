# Assignment-01 Jupyter Notebook

print("hello world!")
