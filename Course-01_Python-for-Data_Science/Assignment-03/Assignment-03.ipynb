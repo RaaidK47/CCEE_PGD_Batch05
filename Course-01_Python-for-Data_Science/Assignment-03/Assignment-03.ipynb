{
 "cells": [
  {
   "cell_type": "markdown",
   "id": "7824bb0d",
   "metadata": {},
   "source": [
    "# Question 01 - Basic List Operations"
   ]
  },
  {
   "cell_type": "code",
   "execution_count": 1,
   "id": "46a2372f-da69-4cd7-9d23-85949c311011",
   "metadata": {},
   "outputs": [
    {
     "name": "stdout",
     "output_type": "stream",
     "text": [
      "['apple', 'mango', 'banana', 'grape', 'kiwi', 'pear']\n"
     ]
    }
   ],
   "source": [
    "fruits = [\"apple\", \"banana\", \"orange\", \"grape\", \"kiwi\"]\n",
    "\n",
    "fruits.append(\"pear\")\n",
    "\n",
    "fruits.insert(1, \"mango\")\n",
    "\n",
    "fruits.remove(\"orange\")\n",
    "\n",
    "print(fruits)"
   ]
  },
  {
   "cell_type": "markdown",
   "id": "d910d1a2",
   "metadata": {},
   "source": [
    "# Question 02 - Slicing and Indexing"
   ]
  },
  {
   "cell_type": "code",
   "execution_count": 11,
   "id": "190fccdf",
   "metadata": {},
   "outputs": [
    {
     "name": "stdout",
     "output_type": "stream",
     "text": [
      "[0, 1, 2, 3, 4, 5, 6, 7, 8, 9]\n",
      "3\n",
      "[2, 3, 4, 5, 6]\n",
      "[7, 8, 9]\n"
     ]
    }
   ],
   "source": [
    "x = list(range(10))\n",
    "\n",
    "print(x)\n",
    "\n",
    "print(x[3])\n",
    "\n",
    "print(x[2:7])\n",
    "\n",
    "print(x[-3:])\n"
   ]
  },
  {
   "cell_type": "markdown",
   "id": "3bcf7bdf",
   "metadata": {},
   "source": [
    "# Question 03 - List Comprehension"
   ]
  },
  {
   "cell_type": "code",
   "execution_count": 5,
   "id": "88bfc8c9",
   "metadata": {},
   "outputs": [
    {
     "name": "stdout",
     "output_type": "stream",
     "text": [
      "[1, 4, 9, 16, 25, 36, 49, 64, 81, 100]\n",
      "[4, 16, 36, 64, 100]\n"
     ]
    }
   ],
   "source": [
    "squares = [x*x for x in range(1,11)]\n",
    "\n",
    "print(squares)\n",
    "\n",
    "even_squares = [i for i in squares if i%2==0]\n",
    "print(even_squares)"
   ]
  },
  {
   "cell_type": "markdown",
   "id": "8ec92d33",
   "metadata": {},
   "source": [
    "# Question 04 - List Manipulation"
   ]
  },
  {
   "cell_type": "code",
   "execution_count": 21,
   "id": "9f3aa0f7",
   "metadata": {},
   "outputs": [
    {
     "name": "stdout",
     "output_type": "stream",
     "text": [
      "['purple', 'green', 'blue', 'yellow', 'red']\n",
      "['red', 'yellow', 'blue', 'green', 'purple']\n",
      "['purple', 'yellow', 'red']\n"
     ]
    }
   ],
   "source": [
    "colors = [\"red\", \"green\", \"blue\", \"yellow\", \"purple\"]\n",
    "\n",
    "first = colors[0]\n",
    "last = colors[-1]\n",
    "colors[0] = last\n",
    "colors[-1] = first\n",
    "\n",
    "print(colors) #Swap First Last\n",
    "print(colors[::-1]) #Reverse List\n",
    "\n",
    "colors.remove(colors[1])\n",
    "colors.remove(colors[1])\n",
    "print(colors)\n",
    "\n"
   ]
  },
  {
   "cell_type": "markdown",
   "id": "56adb356",
   "metadata": {},
   "source": [
    "# Question 04 - Advanced Slicing"
   ]
  },
  {
   "cell_type": "code",
   "execution_count": 33,
   "id": "1aeb2248",
   "metadata": {},
   "outputs": [
    {
     "name": "stdout",
     "output_type": "stream",
     "text": [
      "['a', 'b', 'c', 'd', 'e', 'f', 'g', 'h', 'i', 'j']\n",
      "['a', 'b', 'c', 'd', 'e']\n",
      "['h', 'i', 'j']\n"
     ]
    }
   ],
   "source": [
    "import string\n",
    "letters = list (string.ascii_lowercase)\n",
    "letters = letters[0:10]\n",
    "\n",
    "print(letters)\n",
    "\n",
    "first_half = letters[0:int(len(letters)/2)]\n",
    "print(first_half)\n",
    "\n",
    "last_three = letters[-3:]\n",
    "print(last_three)"
   ]
  },
  {
   "cell_type": "markdown",
   "id": "99b13a05",
   "metadata": {},
   "source": [
    "# Question 05 - Nested Lists"
   ]
  },
  {
   "cell_type": "code",
   "execution_count": 40,
   "id": "cc722006",
   "metadata": {},
   "outputs": [
    {
     "data": {
      "text/plain": [
       "[[1, 2, 3], [4, 5, 6], [7, 8, 9]]"
      ]
     },
     "metadata": {},
     "output_type": "display_data"
    },
    {
     "name": "stdout",
     "output_type": "stream",
     "text": [
      "6\n",
      "[[1, 2, 3], [0, 5, 6], [7, 8, 9]]\n"
     ]
    }
   ],
   "source": [
    "matrix = [[1,2,3],\n",
    "          [4,5,6],\n",
    "          [7,8,9]]\n",
    "display(matrix)\n",
    "\n",
    "print(matrix[1][2]) #Nested Indexing\n",
    "\n",
    "matrix[1][0] = 0\n",
    "print(matrix)"
   ]
  }
 ],
 "metadata": {
  "kernelspec": {
   "display_name": "Python 3 (ipykernel)",
   "language": "python",
   "name": "python3"
  },
  "language_info": {
   "codemirror_mode": {
    "name": "ipython",
    "version": 3
   },
   "file_extension": ".py",
   "mimetype": "text/x-python",
   "name": "python",
   "nbconvert_exporter": "python",
   "pygments_lexer": "ipython3",
   "version": "3.11.3"
  }
 },
 "nbformat": 4,
 "nbformat_minor": 5
}
