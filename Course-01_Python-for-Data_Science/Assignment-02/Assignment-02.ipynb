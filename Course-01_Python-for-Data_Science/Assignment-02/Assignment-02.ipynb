{
 "cells": [
  {
   "cell_type": "markdown",
   "metadata": {},
   "source": [
    "# Assignment 01"
   ]
  },
  {
   "cell_type": "code",
   "execution_count": 3,
   "metadata": {},
   "outputs": [
    {
     "name": "stdout",
     "output_type": "stream",
     "text": [
      "My name is Raaid Khan, I am 26 years old and I live in Pakistan\n"
     ]
    }
   ],
   "source": [
    "name = \"Raaid Khan\"\n",
    "age = 26\n",
    "country = \"Pakistan\"\n",
    "\n",
    "string = \"My name is \" + name + \", I am \" + str(age) + \" years old and I live in \" + country\n",
    "\n",
    "print(string)"
   ]
  },
  {
   "cell_type": "markdown",
   "metadata": {},
   "source": [
    "# Assignment 02"
   ]
  },
  {
   "cell_type": "code",
   "execution_count": 4,
   "metadata": {},
   "outputs": [
    {
     "name": "stdout",
     "output_type": "stream",
     "text": [
      "I bought 2 Laptops at 170000 each, for a total of 340000\n"
     ]
    }
   ],
   "source": [
    "item = \"Laptop\"\n",
    "price = 170000\n",
    "qunatity = 2\n",
    "total_cost = price*qunatity\n",
    "\n",
    "string = \"I bought {} {}s at {} each, for a total of {}\".format(qunatity,item,price,total_cost)\n",
    "print(string)"
   ]
  },
  {
   "cell_type": "markdown",
   "metadata": {},
   "source": [
    "# Assignment 03\n"
   ]
  },
  {
   "cell_type": "code",
   "execution_count": 7,
   "metadata": {},
   "outputs": [
    {
     "name": "stdout",
     "output_type": "stream",
     "text": [
      "The temperature in Karachi is 29°C\n"
     ]
    }
   ],
   "source": [
    "city = \"Karachi\"\n",
    "temperature = 29\n",
    "\n",
    "string = f\"The temperature in {city} is {temperature}\\N{DEGREE SIGN}C\"\n",
    "print(string)"
   ]
  },
  {
   "cell_type": "markdown",
   "metadata": {},
   "source": [
    "# Assignmnet 04"
   ]
  },
  {
   "cell_type": "code",
   "execution_count": 9,
   "metadata": {},
   "outputs": [
    {
     "name": "stdout",
     "output_type": "stream",
     "text": [
      "My name is Raaid Khan. I am 26 years old.\n"
     ]
    }
   ],
   "source": [
    "fName = \"Raaid\"\n",
    "lName = \"Khan\"\n",
    "birth_year = 1997\n",
    "age = 2023 -1997\n",
    "\n",
    "string = \"My name is %s %s. I am %d years old.\" % (fName,lName,age)\n",
    "print(string)"
   ]
  },
  {
   "cell_type": "markdown",
   "metadata": {},
   "source": [
    "# Assignment 05"
   ]
  },
  {
   "cell_type": "code",
   "execution_count": 11,
   "metadata": {},
   "outputs": [
    {
     "name": "stdout",
     "output_type": "stream",
     "text": [
      "The original price of Play Station is 195000 but the shop offers discount of 20%. The discounted amount of Play Station is now 156000\n"
     ]
    }
   ],
   "source": [
    "product = \"Play Station\"\n",
    "discount = 20\n",
    "original_price = 195000\n",
    "dis_price = original_price * (1-discount/100)\n",
    "\n",
    "string = f\"The original price of {product} is {original_price} but the shop offers discount of {discount}%. The discounted amount of {product} is now {int(dis_price)}\"\n",
    "print(string)"
   ]
  }
 ],
 "metadata": {
  "kernelspec": {
   "display_name": "Python 3",
   "language": "python",
   "name": "python3"
  },
  "language_info": {
   "codemirror_mode": {
    "name": "ipython",
    "version": 3
   },
   "file_extension": ".py",
   "mimetype": "text/x-python",
   "name": "python",
   "nbconvert_exporter": "python",
   "pygments_lexer": "ipython3",
   "version": "3.11.3"
  },
  "orig_nbformat": 4
 },
 "nbformat": 4,
 "nbformat_minor": 2
}
